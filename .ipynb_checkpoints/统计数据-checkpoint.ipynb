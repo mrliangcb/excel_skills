{
 "cells": [
  {
   "cell_type": "code",
   "execution_count": 1,
   "metadata": {},
   "outputs": [],
   "source": [
    "import numpy as np\n",
    "import pandas as pd\n",
    "import os\n",
    "import matplotlib.pyplot as plt"
   ]
  },
  {
   "cell_type": "code",
   "execution_count": 2,
   "metadata": {},
   "outputs": [],
   "source": [
    "path=r'./test2.csv'\n",
    "df1 = pd.read_csv(path,nrows=None)"
   ]
  },
  {
   "cell_type": "code",
   "execution_count": 3,
   "metadata": {},
   "outputs": [
    {
     "name": "stdout",
     "output_type": "stream",
     "text": [
      "         代码   超大单净额       result\n",
      "0    600831   6089万   60890000.0\n",
      "1    603000   3185万   31850000.0\n",
      "2    600135   3466万   34660000.0\n",
      "3      2229   1697万   16970000.0\n",
      "4    600037    390万    3900000.0\n",
      "5    600330    504万    5040000.0\n",
      "6      2428    520万    5200000.0\n",
      "7    600894    958万    9580000.0\n",
      "8    600568   1482万   14820000.0\n",
      "9    601886   1103万   11030000.0\n",
      "10      665   2.99万      29900.0\n",
      "11     2369    526万    5260000.0\n",
      "12   600592    337万    3370000.0\n",
      "13   600751   -312万   -3120000.0\n",
      "14      915    455万    4550000.0\n",
      "15   600800    634万    6340000.0\n",
      "16   600740   -241万   -2410000.0\n",
      "17   600022    383万    3830000.0\n",
      "18       99   53.4万     534000.0\n",
      "19     2130    740万    7400000.0\n",
      "20   600470    302万    3020000.0\n",
      "21   600827       0          0.0\n",
      "22     2073    292万    2920000.0\n",
      "23      899  -91.8万    -918000.0\n",
      "24   300273   29.7万     297000.0\n",
      "25   601718    353万    3530000.0\n",
      "26     2355  -78.4万    -784000.0\n",
      "27   600640   82.8万     828000.0\n",
      "28   600976    117万    1170000.0\n",
      "29     2161    446万    4460000.0\n",
      "..      ...     ...          ...\n",
      "231    2079   -920万   -9200000.0\n",
      "232  600825   -584万   -5840000.0\n",
      "233  600157    144万    1440000.0\n",
      "234     957   -854万   -8540000.0\n",
      "235     996   -621万   -6210000.0\n",
      "236  600219   -428万   -4280000.0\n",
      "237     801   -730万   -7300000.0\n",
      "238     592   -993万   -9930000.0\n",
      "239  600707   -313万   -3130000.0\n",
      "240  600503   -389万   -3890000.0\n",
      "241     616  -1009万  -10090000.0\n",
      "242    2011   -847万   -8470000.0\n",
      "243  600354   -939万   -9390000.0\n",
      "244  600645  -1506万  -15060000.0\n",
      "245    2106   -984万   -9840000.0\n",
      "246  600108  -1513万  -15130000.0\n",
      "247  600604  -2840万  -28400000.0\n",
      "248    2588   -727万   -7270000.0\n",
      "249    2556   -721万   -7210000.0\n",
      "250    2005  -1427万  -14270000.0\n",
      "251     973  -1336万  -13360000.0\n",
      "252     531  -4796万  -47960000.0\n",
      "253  600677  -3068万  -30680000.0\n",
      "254  600783  -3541万  -35410000.0\n",
      "255    2579  -2663万  -26630000.0\n",
      "256     823  -2337万  -23370000.0\n",
      "257  600895  -2604万  -26040000.0\n",
      "258  300128  -2097万  -20970000.0\n",
      "259  600218  -7110万  -71100000.0\n",
      "260  600776  -1.03亿 -103000000.0\n",
      "\n",
      "[261 rows x 3 columns]\n",
      "求和为: -463743792.0\n"
     ]
    }
   ],
   "source": [
    "#接下来用这两种方法做单位转换\n",
    "def clear(str):#去除单位\n",
    "    return float(str[:(len(str)-1)])\n",
    "\n",
    "def classes(row):\n",
    "    #df就是传进来的行\n",
    "    #for i in range(len(df)):\n",
    "    if \"万\" in row[\"超大单净额\"]:\n",
    "        row['result'] = clear(row[\"超大单净额\"])*10000\n",
    "    elif \"亿\" in row[\"超大单净额\"]:\n",
    "        row['result'] = clear(row[\"超大单净额\"])*100000000\n",
    "    else:#没有万也没有亿\n",
    "        row['result'] = float(row[\"超大单净额\"])\n",
    "    return row #单个结果就是一行，当df.apple遍历完全部行，则把这些结果行拼成一个series\n",
    "\n",
    "df1 = df1.apply(lambda row: classes(row), axis=1)#返回整个dataframe，以行为单位，分多次传入，每次传1行，分别操作\n",
    "df11=df1.loc[:,[\"代码\",\"超大单净额\",\"result\"]]\n",
    "print(df11)\n",
    "summary=df11[\"result\"].sum(axis=0)\n",
    "print(\"求和为:\",summary)"
   ]
  },
  {
   "cell_type": "code",
   "execution_count": null,
   "metadata": {},
   "outputs": [],
   "source": [
    "df2=df1.loc[:,[\"序\",\"名称\",\"主力净流入\"]]\n",
    "wan=df2[df2[\"主力净流入\"].str.contains('6万')].index.tolist()\n",
    "df2.loc[wan,\"summary\"]=df2.loc[wan,\"主力净流入\"]\n",
    "print(\"是什么类型:\",type(df2.loc[3,\"主力净流入\"]))\n",
    "\n",
    "#单位转化\n",
    "float(df2.loc[0,\"summary\"][:(len(df2.loc[0,\"summary\"])-1)])*10000\n",
    "\n",
    "a=\"3万\"\n",
    "b=a[:1]\n",
    "print(b)\n",
    "\"万\" in a  #或者not in"
   ]
  },
  {
   "cell_type": "code",
   "execution_count": 35,
   "metadata": {},
   "outputs": [
    {
     "name": "stdout",
     "output_type": "stream",
     "text": [
      "   0  1  2\n",
      "0  a  b  c\n",
      "1  1  2  3\n",
      "2  4  5  6\n"
     ]
    }
   ],
   "source": [
    "#读txt\n",
    "path=r'./test.txt'\n",
    "df_txt=pd.read_csv(path,header=None,sep=',')\n",
    "print(df_txt)\n"
   ]
  },
  {
   "cell_type": "code",
   "execution_count": null,
   "metadata": {},
   "outputs": [],
   "source": []
  }
 ],
 "metadata": {
  "kernelspec": {
   "display_name": "Python 3",
   "language": "python",
   "name": "python3"
  },
  "language_info": {
   "codemirror_mode": {
    "name": "ipython",
    "version": 3
   },
   "file_extension": ".py",
   "mimetype": "text/x-python",
   "name": "python",
   "nbconvert_exporter": "python",
   "pygments_lexer": "ipython3",
   "version": "3.6.7"
  }
 },
 "nbformat": 4,
 "nbformat_minor": 2
}
