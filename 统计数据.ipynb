{
 "cells": [
  {
   "cell_type": "code",
   "execution_count": 28,
   "metadata": {},
   "outputs": [],
   "source": [
    "\n",
    "import numpy as np\n",
    "import pandas as pd\n",
    "import os\n",
    "import matplotlib.pyplot as plt"
   ]
  },
  {
   "cell_type": "code",
   "execution_count": 73,
   "metadata": {},
   "outputs": [
    {
     "data": {
      "text/plain": [
       "True"
      ]
     },
     "execution_count": 73,
     "metadata": {},
     "output_type": "execute_result"
    }
   ],
   "source": [
    "path=r'./test2.csv'\n",
    "df1 = pd.read_csv(path,nrows=None)\n",
    "df1.dtypes\n",
    "df2=df1.loc[:,[\"序\",\"名称\",\"主力净流入\"]]\n",
    "wan=df2[df2[\"主力净流入\"].str.contains('6万')].index.tolist()\n",
    "df2.loc[wan,\"summary\"]=df2.loc[wan,\"主力净流入\"]\n",
    "float(df2.loc[0,\"summary\"][:(len(df2.loc[0,\"summary\"])-1)])*10000\n",
    "\n",
    "a=\"3万\"\n",
    "\n",
    "\"万\" in a  #或者not in"
   ]
  },
  {
   "cell_type": "code",
   "execution_count": null,
   "metadata": {},
   "outputs": [],
   "source": [
    "#接下来用这两种方法做单位转换\n",
    "\n",
    "def my_test(a, b):\n",
    "    return a + b\n",
    " \n",
    "df1['Value'] = df1.apply(lambda row: my_test(row['1'], row['2']), axis=1)\n",
    "print(df1.head(3))\n",
    "\n",
    "\n",
    "def classes(df):\n",
    "    print('传入的df:',df)\n",
    "    #for i in range(len(df)):\n",
    "    if df['score'] < 60:\n",
    "        df['level'] = 'C'\n",
    "    elif df['score'] > 90:\n",
    "        df['level'] = 'A'\n",
    "    else:\n",
    "        df['level'] = 'B'\n",
    "    return df\n",
    "\n",
    "df = df.apply(lambda r: classes(r), axis=1)#返回整个dataframe，以行为单位，分多次传入，每次传1行，分别操作\n",
    "print(df)\n",
    "\n"
   ]
  },
  {
   "cell_type": "code",
   "execution_count": null,
   "metadata": {},
   "outputs": [],
   "source": []
  }
 ],
 "metadata": {
  "kernelspec": {
   "display_name": "Python 3",
   "language": "python",
   "name": "python3"
  },
  "language_info": {
   "codemirror_mode": {
    "name": "ipython",
    "version": 3
   },
   "file_extension": ".py",
   "mimetype": "text/x-python",
   "name": "python",
   "nbconvert_exporter": "python",
   "pygments_lexer": "ipython3",
   "version": "3.6.7"
  }
 },
 "nbformat": 4,
 "nbformat_minor": 2
}
