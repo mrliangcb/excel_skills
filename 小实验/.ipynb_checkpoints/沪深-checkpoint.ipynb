{
 "cells": [
  {
   "cell_type": "code",
   "execution_count": 154,
   "metadata": {},
   "outputs": [],
   "source": [
    "import pandas as pd\n",
    "import numpy as np"
   ]
  },
  {
   "cell_type": "code",
   "execution_count": 155,
   "metadata": {},
   "outputs": [
    {
     "name": "stdout",
     "output_type": "stream",
     "text": [
      "沪深股通    002948\n",
      "Name: 1315, dtype: object\n"
     ]
    }
   ],
   "source": [
    "path1=r'C:\\Users\\mrliangcb\\Desktop\\hushengutong.csv'\n",
    "# with open(path, 'rb') as f:\n",
    "# print(f.readlines())\n",
    "df1 = pd.read_csv(path1,converters = {u'沪深股通':str})\n",
    "print(df1.loc[1315])"
   ]
  },
  {
   "cell_type": "code",
   "execution_count": 156,
   "metadata": {},
   "outputs": [
    {
     "name": "stdout",
     "output_type": "stream",
     "text": [
      "两融    0000002\n",
      "Name: 1, dtype: object\n"
     ]
    }
   ],
   "source": [
    "path2=r'C:\\Users\\mrliangcb\\Desktop\\liangrong.txt'\n",
    "# with open(path, 'rb') as f:\n",
    "# print(f.readlines())\n",
    "df2 = pd.read_csv(path2,converters = {u'两融':str})\n",
    "print(df2.loc[1])\n"
   ]
  },
  {
   "cell_type": "code",
   "execution_count": 157,
   "metadata": {},
   "outputs": [
    {
     "name": "stdout",
     "output_type": "stream",
     "text": [
      "          两融     两融2\n",
      "0    0000001  000001\n",
      "1    0000002  000002\n",
      "2    0000006  000006\n",
      "3    0000008  000008\n",
      "4    0000009  000009\n",
      "5    0000012  000012\n",
      "6    0000027  000027\n",
      "7    0000028  000028\n",
      "8    0000030  000030\n",
      "9    0000031  000031\n",
      "10   0000036  000036\n",
      "11   0000039  000039\n",
      "12   0000040  000040\n",
      "13   0000043  000043\n",
      "14   0000046  000046\n",
      "15   0000049  000049\n",
      "16   0000050  000050\n",
      "17   0000059  000059\n",
      "18   0000060  000060\n",
      "19   0000061  000061\n",
      "20   0000062  000062\n",
      "21   0000063  000063\n",
      "22   0000069  000069\n",
      "23   0000078  000078\n",
      "24   0000088  000088\n",
      "25   0000089  000089\n",
      "26   0000090  000090\n",
      "27   0000099  000099\n",
      "28   0000100  000100\n",
      "29   0000151  000151\n",
      "..       ...     ...\n",
      "920  1601880  601880\n",
      "921  1601881  601881\n",
      "922  1601886  601886\n",
      "923  1601888  601888\n",
      "924  1601898  601898\n",
      "925  1601899  601899\n",
      "926  1601901  601901\n",
      "927  1601919  601919\n",
      "928  1601928  601928\n",
      "929  1601929  601929\n",
      "930  1601933  601933\n",
      "931  1601939  601939\n",
      "932  1601958  601958\n",
      "933  1601985  601985\n",
      "934  1601988  601988\n",
      "935  1601989  601989\n",
      "936  1601991  601991\n",
      "937  1601992  601992\n",
      "938  1601996  601996\n",
      "939  1601997  601997\n",
      "940  1601998  601998\n",
      "941  1601999  601999\n",
      "942  1603000  603000\n",
      "943  1603001  603001\n",
      "944  1603169  603169\n",
      "945  1603323  603323\n",
      "946  1603369  603369\n",
      "947  1603766  603766\n",
      "948  1603858  603858\n",
      "949  1603993  603993\n",
      "\n",
      "[950 rows x 2 columns]\n"
     ]
    }
   ],
   "source": [
    "def clear(str):#去除单位\n",
    "    return str[1:]\n",
    "def classes(row):\n",
    "    row['两融2'] = clear(row[\"两融\"])\n",
    "    return row\n",
    "df2 = df2.apply(lambda row: classes(row), axis=1)\n",
    "print(df2)"
   ]
  },
  {
   "cell_type": "code",
   "execution_count": 158,
   "metadata": {},
   "outputs": [
    {
     "name": "stdout",
     "output_type": "stream",
     "text": [
      "(689, 1)\n",
      "(627, 1)\n"
     ]
    }
   ],
   "source": [
    "df3=df1[df1['沪深股通'].isin(df2['两融2'])]\n",
    "print(df3.shape)\n",
    "df4=df1[~df1['沪深股通'].isin(df2['两融2'])]\n",
    "print(df4.shape)\n",
    "df3.to_csv(r'C:\\Users\\mrliangcb\\Desktop\\hslr.csv',sep=',',index=0,encoding= 'utf-8' )\n",
    "df4.to_csv(r'C:\\Users\\mrliangcb\\Desktop\\hsflr.csv',sep=',',index=0,encoding= 'utf-8' )"
   ]
  },
  {
   "cell_type": "code",
   "execution_count": 159,
   "metadata": {},
   "outputs": [
    {
     "name": "stdout",
     "output_type": "stream",
     "text": [
      "        沪深股通\n",
      "0     600000\n",
      "1     600004\n",
      "2     600007\n",
      "3     600008\n",
      "4     600009\n",
      "5     600010\n",
      "6     600011\n",
      "7     600012\n",
      "8     600015\n",
      "9     600016\n",
      "10    600018\n",
      "11    600019\n",
      "12    600020\n",
      "13    600023\n",
      "14    600025\n",
      "15    600026\n",
      "16    600027\n",
      "17    600028\n",
      "18    600029\n",
      "19    600030\n",
      "20    600031\n",
      "21    600036\n",
      "22    600038\n",
      "23    600039\n",
      "24    600048\n",
      "25    600050\n",
      "26    600053\n",
      "27    600056\n",
      "28    600060\n",
      "29    600061\n",
      "...      ...\n",
      "1286  300595\n",
      "1287  300601\n",
      "1288  300602\n",
      "1289  300607\n",
      "1290  300616\n",
      "1291  300618\n",
      "1292  300624\n",
      "1293  300628\n",
      "1294  300630\n",
      "1295  300633\n",
      "1296  300634\n",
      "1297  300661\n",
      "1298  300664\n",
      "1299  300666\n",
      "1300  300676\n",
      "1301  300679\n",
      "1302  300684\n",
      "1303  300685\n",
      "1304  300699\n",
      "1305  300725\n",
      "1306  300726\n",
      "1307  300735\n",
      "1308  300737\n",
      "1309  300741\n",
      "1310  300745\n",
      "1311  300747\n",
      "1312  300750\n",
      "1313  300760\n",
      "1314  601298\n",
      "1315  002948\n",
      "\n",
      "[1316 rows x 1 columns]\n"
     ]
    }
   ],
   "source": [
    "\n",
    "def classes2(row):\n",
    "    if row['沪深股通'] in df2[\"两融2\"]:\n",
    "        row['沪深两融']=row['沪深股通']\n",
    "    return row\n",
    "df1 = df1.apply(lambda row: classes2(row), axis=1)\n",
    "\n",
    "print(df1)"
   ]
  },
  {
   "cell_type": "code",
   "execution_count": null,
   "metadata": {},
   "outputs": [],
   "source": []
  },
  {
   "cell_type": "code",
   "execution_count": null,
   "metadata": {},
   "outputs": [],
   "source": []
  },
  {
   "cell_type": "code",
   "execution_count": null,
   "metadata": {},
   "outputs": [],
   "source": []
  }
 ],
 "metadata": {
  "kernelspec": {
   "display_name": "Python 3",
   "language": "python",
   "name": "python3"
  },
  "language_info": {
   "codemirror_mode": {
    "name": "ipython",
    "version": 3
   },
   "file_extension": ".py",
   "mimetype": "text/x-python",
   "name": "python",
   "nbconvert_exporter": "python",
   "pygments_lexer": "ipython3",
   "version": "3.6.7"
  }
 },
 "nbformat": 4,
 "nbformat_minor": 2
}
